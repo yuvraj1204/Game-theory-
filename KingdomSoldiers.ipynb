{
  "nbformat": 4,
  "nbformat_minor": 0,
  "metadata": {
    "colab": {
      "provenance": [],
      "include_colab_link": true
    },
    "kernelspec": {
      "name": "python3",
      "display_name": "Python 3"
    },
    "language_info": {
      "name": "python"
    }
  },
  "cells": [
    {
      "cell_type": "markdown",
      "metadata": {
        "id": "view-in-github",
        "colab_type": "text"
      },
      "source": [
        "<a href=\"https://colab.research.google.com/github/yuvraj1204/Game-theory-/blob/main/KingdomSoldiers.ipynb\" target=\"_parent\"><img src=\"https://colab.research.google.com/assets/colab-badge.svg\" alt=\"Open In Colab\"/></a>"
      ]
    },
    {
      "cell_type": "code",
      "execution_count": null,
      "metadata": {
        "id": "QEe71_Rw_FL0"
      },
      "outputs": [],
      "source": [
        "import numpy as np\n",
        "import pandas as pd\n",
        "import random\n"
      ]
    },
    {
      "cell_type": "code",
      "source": [
        "no_of_kingdoms = int(input(\"Enter the number of kingdoms ->\"))\n",
        "no_of_rounds = int(input(\"How many rounds of trading do you want to conduct ->\"))"
      ],
      "metadata": {
        "colab": {
          "base_uri": "https://localhost:8080/"
        },
        "id": "uJzctGHw_Ulm",
        "outputId": "c7a1c7cb-5a17-4279-b28f-08eeb3694fe2"
      },
      "execution_count": null,
      "outputs": [
        {
          "name": "stdout",
          "output_type": "stream",
          "text": [
            "Enter the number of kingdoms ->4\n",
            "How many rounds of trading do you want to conduct ->4\n"
          ]
        }
      ]
    },
    {
      "cell_type": "code",
      "source": [
        "soldiers_per_round = np.zeros(no_of_rounds)\n",
        "i = int(0)\n",
        "for i in range(no_of_rounds):\n",
        "    soldiers_per_round[i] = random.randrange(100, 1000)\n",
        "soldiers_per_round\n",
        "total_soldiers = np.sum(soldiers_per_round)\n",
        "total_soldiers"
      ],
      "metadata": {
        "colab": {
          "base_uri": "https://localhost:8080/"
        },
        "id": "Z_IzwXFr_Zpq",
        "outputId": "6f47a792-c138-49b6-b81e-8b0adefcba97"
      },
      "execution_count": null,
      "outputs": [
        {
          "output_type": "execute_result",
          "data": {
            "text/plain": [
              "2366.0"
            ]
          },
          "metadata": {},
          "execution_count": 3
        }
      ]
    },
    {
      "cell_type": "code",
      "source": [
        "j = 0\n",
        "soldiers_resultant = np.zeros(no_of_kingdoms)\n",
        "for j in range(no_of_rounds):\n",
        "    bids = np.zeros(no_of_kingdoms)\n",
        "    i = 0\n",
        "    for i in range(no_of_kingdoms):\n",
        "        bids[i] = int(random.randrange(500, 1500)* (0.001*soldiers_per_round[i]))\n",
        "    bid_winner = np.argmax(bids)\n",
        "    print(f\"The winning bid was {bids[bid_winner]}\")\n",
        "    print(f\"The round {j+1} was won by kingdom {bid_winner + 1}\")\n",
        "    soldiers_resultant[bid_winner] = soldiers_resultant[bid_winner] + soldiers_per_round[j]\n",
        "overall_winner = np.argmax(soldiers_resultant)\n",
        "\n",
        "print(f\"The overall maximum soldiers were purchased by kingdom {overall_winner + 1}\")"
      ],
      "metadata": {
        "colab": {
          "base_uri": "https://localhost:8080/"
        },
        "id": "0IfBa1YH_gDs",
        "outputId": "2b8ffec6-2c7a-4aec-b1b9-e9e0638da3c0"
      },
      "execution_count": null,
      "outputs": [
        {
          "output_type": "stream",
          "name": "stdout",
          "text": [
            "The winning bid was 1247.0\n",
            "The round 1 was won by kingdom 2\n",
            "The winning bid was 1180.0\n",
            "The round 2 was won by kingdom 2\n",
            "The winning bid was 648.0\n",
            "The round 3 was won by kingdom 4\n",
            "The winning bid was 1268.0\n",
            "The round 4 was won by kingdom 2\n",
            "The overall maximum soldiers were purchased by kingdom 2\n"
          ]
        }
      ]
    },
    {
      "cell_type": "code",
      "source": [
        "bids"
      ],
      "metadata": {
        "colab": {
          "base_uri": "https://localhost:8080/"
        },
        "id": "H6TXqUGk_mRA",
        "outputId": "45d49deb-0963-49a7-8671-0b97ab795ab6"
      },
      "execution_count": null,
      "outputs": [
        {
          "output_type": "execute_result",
          "data": {
            "text/plain": [
              "array([ 610., 1046.,  976.,  636.])"
            ]
          },
          "metadata": {},
          "execution_count": 6
        }
      ]
    },
    {
      "cell_type": "code",
      "source": [],
      "metadata": {
        "id": "GClIAeoSGMG_"
      },
      "execution_count": null,
      "outputs": []
    }
  ]
}