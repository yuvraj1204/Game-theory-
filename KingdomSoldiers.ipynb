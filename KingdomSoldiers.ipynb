import numpy as np
import pandas as pd
import random
no_of_kingdoms = int(input("Enter the number of kingdoms ->"))
no_of_rounds = int(input("How many rounds of trading do you want to conduct ->"))
soldiers_per_round = np.zeros(no_of_rounds)
i = int(0)
for i in range(no_of_rounds):
    soldiers_per_round[i] = random.randrange(100, 1000)
soldiers_per_round
total_soldiers = np.sum(soldiers_per_round)
total_soldiers
j = 0
soldiers_resultant = np.zeros(no_of_kingdoms)
for j in range(no_of_rounds):
    bids = np.zeros(no_of_kingdoms)
    i = 0
    for i in range(no_of_kingdoms):
        bids[i] = int(random.randrange(500, 1500)* (0.001*soldiers_per_round[i]))
    bid_winner = np.argmax(bids)
    print(f"The winning bid was {bids[bid_winner]}")
    print(f"The round {j+1} was won by kingdom {bid_winner + 1}")
    soldiers_resultant[bid_winner] = soldiers_resultant[bid_winner] + soldiers_per_round[j]
overall_winner = np.argmax(soldiers_resultant)

print(f"The overall maximum soldiers were purchased by kingdom {overall_winner + 1}")
