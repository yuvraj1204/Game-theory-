{
 "cells": [
  {
   "cell_type": "code",
   "execution_count": 1,
   "id": "a6842ca6",
   "metadata": {},
   "outputs": [],
   "source": [
    "from random import *\n",
    "import numpy as np\n",
    "import random\n"
   ]
  },
  {
   "cell_type": "code",
   "execution_count": 2,
   "id": "d7665a15",
   "metadata": {},
   "outputs": [
    {
     "name": "stdout",
     "output_type": "stream",
     "text": [
      "Enter the price of the overall game.10000\n",
      "Enter the number of players you want to play the game (Ideal value 3->4)4\n"
     ]
    }
   ],
   "source": [
    "rounds = 5.0\n",
    "price = float(input(\"Enter the price of the overall game.\"))\n",
    "number_players = float(input(\"Enter the number of players you want to play the game (Ideal value 3->4)\"))"
   ]
  },
  {
   "cell_type": "code",
   "execution_count": 3,
   "id": "f0942230",
   "metadata": {},
   "outputs": [
    {
     "data": {
      "text/plain": [
       "[1680.0, 1600.0, 1760.0, 1840.0]"
      ]
     },
     "execution_count": 3,
     "metadata": {},
     "output_type": "execute_result"
    }
   ],
   "source": [
    "mean_price = float(price) / float(rounds)\n",
    "dev = 0.01 * float(mean_price) * float(randrange(1,15))\n",
    "inherant_chars = [0] * int(number_players)\n",
    "i = 0\n",
    "c = 0\n",
    "c_array = [10] * int(number_players)\n",
    "for i in range(int(number_players)):\n",
    "    c = int(randrange(0, int(number_players)))\n",
    "    while(c in c_array):\n",
    "        c = int(randrange(0, int(number_players)))\n",
    "    c_array[i] = c\n",
    "    inherant_chars[c] = mean_price - ((((number_players) - (number_players/2) + i) * dev))\n",
    "inherant_chars"
   ]
  },
  {
   "cell_type": "code",
   "execution_count": 7,
   "id": "ee0767e7",
   "metadata": {},
   "outputs": [
    {
     "data": {
      "text/plain": [
       "[0.2,\n",
       " 0.4,\n",
       " 0.6000000000000001,\n",
       " 0.8,\n",
       " 1.0,\n",
       " 1.2000000000000002,\n",
       " 1.4000000000000001,\n",
       " 1.6,\n",
       " 1.8,\n",
       " 2.0]"
      ]
     },
     "execution_count": 7,
     "metadata": {},
     "output_type": "execute_result"
    }
   ],
   "source": [
    "card_influence = [0] * 10\n",
    "i = 0\n",
    "\n",
    "for i in range(0, 10):\n",
    "    card_influence[i] = (0.2 * (i + 1))\n",
    "card_influence"
   ]
  },
  {
   "cell_type": "code",
   "execution_count": 8,
   "id": "a2bb837c",
   "metadata": {},
   "outputs": [
    {
     "name": "stdout",
     "output_type": "stream",
     "text": [
      "[0.8 1.8 0.6 1.2]\n",
      "The bids of the round 1 are -\n",
      "[1344. 2880. 1056. 2208.]\n",
      "The bid of round 1 was won by player number 2\n",
      "9.0\n",
      "[4. 9. 3. 6.]\n",
      "[ 6. 20.  8. 13.]\n",
      "The round 1 was won by player number 2\n",
      "[1.8 1.6 1.  2. ]\n",
      "The bids of the round 2 are -\n",
      "[3024. 2560. 1760. 3680.]\n",
      "The bid of round 2 was won by player number 4\n",
      "10.0\n",
      "[ 9.  8.  5. 10.]\n",
      "[12. 18. 14. 21.]\n",
      "The round 2 was won by player number 4\n",
      "[1.4 0.8 1.2 0.2]\n",
      "The bids of the round 3 are -\n",
      "[2352. 1280. 2112.  368.]\n",
      "The bid of round 3 was won by player number 1\n",
      "7.0\n",
      "[7. 4. 6. 1.]\n",
      "[20. 12.  9.  9.]\n",
      "The round 3 was won by player number 1\n",
      "[1.4 1.8 2.  1.2]\n",
      "The bids of the round 4 are -\n",
      "[2352. 2880. 3520. 2208.]\n",
      "The bid of round 4 was won by player number 3\n",
      "10.0\n",
      "[ 7.  9. 10.  6.]\n",
      "[11. 16. 22. 13.]\n",
      "The round 4 was won by player number 3\n",
      "[0.6 0.2 0.8 0.4]\n",
      "The bids of the round 5 are -\n",
      "[1008.  320. 1408.  736.]\n",
      "The bid of round 5 was won by player number 3\n",
      "4.0\n",
      "[3. 1. 4. 2.]\n",
      "[ 7.  4. 16. 12.]\n",
      "The round 5 was won by player number 3\n"
     ]
    }
   ],
   "source": [
    "rounds_won = [0] * int(rounds)\n",
    "r = 0\n",
    "for r in range(int(rounds)):\n",
    "    #Assigning the players a card w/o replacement each from 1 - 10\n",
    "    card_received = np.zeros(int(number_players))\n",
    "    i = 0\n",
    "    for i in range(int(number_players)):\n",
    "        card = int(randrange(1, 11))\n",
    "        while(card in card_received):\n",
    "            card = int(randrange(1, 11))\n",
    "        card_received[i] = card\n",
    "    card_received  \n",
    "    #giving the bid some value based on the card\n",
    "    card_dependence = np.zeros(int(number_players))\n",
    "    i = 0\n",
    "    for i in range(int(number_players)):\n",
    "        card_dependence[i] = card_influence[int(card_received[i]) - 1]\n",
    "    bid = np.zeros(int(number_players))\n",
    "    \n",
    "    print(card_dependence)\n",
    "    i = 0\n",
    "    for i in range(int(number_players)):\n",
    "        bid[i] = inherant_chars[i]*card_dependence[i]\n",
    "    bid_winner = np.argmax((bid))\n",
    "    print(f\"The bids of the round {r+1} are -\")\n",
    "    print(bid)\n",
    "    #bid_winner\n",
    "    print(f\"The bid of round {r + 1} was won by player number {bid_winner + 1}\")\n",
    "    print(card_received[bid_winner])\n",
    "    print(card_received)\n",
    "    card_received[bid_winner] = card_received[bid_winner] + int(randrange(11,14))\n",
    "    #card_received[bid_winner]\n",
    "    \n",
    "    i = 0\n",
    "    for i in range(int(number_players)):\n",
    "        if(i == bid_winner):\n",
    "            continue\n",
    "        card = int(randrange(1, 11))\n",
    "        while(card in card_received):\n",
    "            card = int(randrange(1, 11))\n",
    "        card_received[i] = card_received[i] + card\n",
    "    #card_received  \n",
    "    round_winner = np.argmax(card_received)\n",
    "    print(card_received)\n",
    "    print(f\"The round {r + 1} was won by player number {round_winner + 1}\")\n",
    "    rounds_won[r] = round_winner + 1\n",
    "    \n",
    "    "
   ]
  },
  {
   "cell_type": "code",
   "execution_count": 6,
   "id": "0033aa42",
   "metadata": {},
   "outputs": [
    {
     "name": "stdout",
     "output_type": "stream",
     "text": [
      "The overall winner of the game is player number 1\n"
     ]
    }
   ],
   "source": [
    "overall_winner = np.bincount(rounds_won).argmax()\n",
    "print(f\"The overall winner of the game is player number {overall_winner}\")"
   ]
  },
  {
   "cell_type": "code",
   "execution_count": null,
   "id": "ecc0d09e",
   "metadata": {},
   "outputs": [],
   "source": []
  },
  {
   "cell_type": "markdown",
   "id": "68c0cde6",
   "metadata": {},
   "source": [
    "# "
   ]
  }
 ],
 "metadata": {
  "kernelspec": {
   "display_name": "Python 3 (ipykernel)",
   "language": "python",
   "name": "python3"
  },
  "language_info": {
   "codemirror_mode": {
    "name": "ipython",
    "version": 3
   },
   "file_extension": ".py",
   "mimetype": "text/x-python",
   "name": "python",
   "nbconvert_exporter": "python",
   "pygments_lexer": "ipython3",
   "version": "3.9.13"
  }
 },
 "nbformat": 4,
 "nbformat_minor": 5
}
